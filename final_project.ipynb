{
 "cells": [
  {
   "cell_type": "markdown",
   "metadata": {},
   "source": [
    "# Título"
   ]
  },
  {
   "cell_type": "markdown",
   "metadata": {},
   "source": [
    "# Integrantes \n",
    "### Vinicius Freitas Schiavinato Olzon                   | Matrícula: 20210026803\n",
    "### Gabriel de Lucca                                     | Matrícula: y\n",
    "### José Jesus                                           | Matrícula: z"
   ]
  },
  {
   "cell_type": "markdown",
   "metadata": {},
   "source": [
    "# Introdução"
   ]
  },
  {
   "cell_type": "markdown",
   "metadata": {},
   "source": [
    "A música está diretamente ligada a história da humanidade, em que a primeira música já feita data de 1.400 a.C., conhecida como Hino Hurriano para Nikkal, a qual foi feita em homenagem à deusa Nikkal, em que o autor é dado como desconhecido, todavia, existem registros arqueológicos de instrumentos musicais precários que se assemelham a uma espécie de flauta que confirmam a relação da humanidade com a música desde 40.000 a.C.. Não somente, a música é capaz de expressar sentimentos que muitas vezes não são bem expostos da forma desejada com palavras e gestos, de tal forma que ela nasce como forma de socialização entre nós humanos, sendo desenvolvida com base nas sensações geradas a partir de estímulos sonoros.\n",
    "\n",
    "Com o passar dos séculos, houveram diversas mudanças culturais, sociais e econômicas, contudo, algo que permaneceu igual foi a necessidade e vontade da humanidade de expressar suas frustrações e alegrias conforme o cenário atual da época, ou tão somente para a poesia, romance e outras formas de se socializar com a comunidade. Assim, nada mais justo do que estudar algumas características musicais de diferentes períodos e analisar suas diferenças afim de obter informações, que, serão tomadas como fundamento para formular conclusões acerca do tema. "
   ]
  },
  {
   "cell_type": "markdown",
   "metadata": {},
   "source": [
    "# Objetivos"
   ]
  },
  {
   "cell_type": "markdown",
   "metadata": {},
   "source": [
    "Dessa forma, o objetivo desse projeto é, a partir do análise, limpeza e processamento dos dados, saber como as características musicais de cada canção se relacionam entre si, quais padrões musicais são detectados e descobrir como as características de cada música se transformaram com o passar dos anos, de maneira que ao final da leitura do projeto, seja elucidado algumas informações que antes não estavam claras, ou que traga algo de novo e interessante para o leitor em questão."
   ]
  },
  {
   "cell_type": "markdown",
   "metadata": {},
   "source": [
    "# Perguntas"
   ]
  },
  {
   "cell_type": "markdown",
   "metadata": {},
   "source": [
    "Algumas perguntas são consideradas importantes para a análise e compreensão final desse projeto, de tal forma que as respotas dessas indagações são o foco principal do trabalho."
   ]
  },
  {
   "cell_type": "markdown",
   "metadata": {},
   "source": [
    "### O projeto gira em torno das seguintes questões:\n",
    " * Com base nas músicas consideradas como tristes e nas músicas violentas, quais palavras mais tendem a aparecer nas letras dessas músicas ?\n",
    "\n",
    " * Como o grau de obscenidade das letras das músicas se comporta com o passar das décadas ?\n",
    "\n",
    " * Existe correlação entre o quanto uma música é fácil de se dançar e o quanto ela é alegre ?\n",
    "\n",
    " * As músicas mais populares entre 2010 e 2019 demonstram alguma característica musical comum entre si ?\n",
    "\n",
    " * As músicas mais populares entre 2010 e 2019 são consideradas alegres/positivas ?\n",
    "\n",
    " * Qual o gênero musical mais/menos popular entre 2010 e 2019 e quais tendem a crescer/diminuir nos anos seguintes ?\n",
    "\n",
    " * Qual é o artista com mais músicas consideradas como \"hits\" entre 2010 e 2019 ?"
   ]
  },
  {
   "cell_type": "markdown",
   "metadata": {},
   "source": [
    "# Dados\n"
   ]
  },
  {
   "cell_type": "markdown",
   "metadata": {},
   "source": [
    "O projeto tem como base dois conjuntos de dados, o primeiro é sobre as músicas mais populares na plataforma de streaming Spotify entre os anos de 2010 e 2019, 2019 incluso, já o primeiro trata sobre músicas lançadas entre 1950 e 2019, as quais são tratadas e discutidas mais a fundo no projeto. Os dados foram obtidos na plataforma Kaggle, de maneira que ambos os datasets são disponíveis para uso coletivo."
   ]
  },
  {
   "cell_type": "markdown",
   "metadata": {},
   "source": [
    "Descrição do primeiro dataset:\n",
    "\n",
    "- title: Título da canção\n",
    "\n",
    "- artist: Cantor da canção\n",
    "\n",
    "- top genre: Gênero musical da canção\n",
    "\n",
    "- year: Ano de lançamento da canção\n",
    "\n",
    "- bpm: Batidas por minutos da canção\n",
    "\n",
    "- nrgy: Índice de energia da canção (Quanto maior for o valor mais energética é a canção)\n",
    "\n",
    "- dnce: Índice de dançabilidade da canção (Quanto maior for o valor mais fácil é de se dançar a canção)\n",
    "\n",
    "- dB: Decibéis da canção (são números negativos)\n",
    "\n",
    "- live: Índice de vivacidade da canção (Quanto maior for o valor mais provável da canção ser ao vivo)\n",
    "\n",
    "- val: Índice sentimental da canção (Quanto maior for o valor mais provável da canção ser alegre/positiva)\n",
    "\n",
    "- dur: Duração da canção ( em segundos)\n",
    "\n",
    "- acous: Índice de acústica da canção (Quanto maior for o valor mais a música tem palavras cantadas)\n",
    "\n",
    "- spch: Índice de fala da canção (Quanto maior for o valor mais provável da música ser ao vivo)\n",
    "\n",
    "- pop: Índice de popularidade da canção\n"
   ]
  }
 ],
 "metadata": {
  "language_info": {
   "name": "python"
  },
  "orig_nbformat": 4
 },
 "nbformat": 4,
 "nbformat_minor": 2
}
