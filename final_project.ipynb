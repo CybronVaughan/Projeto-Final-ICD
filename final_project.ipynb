{
 "cells": [
  {
   "cell_type": "markdown",
   "metadata": {},
   "source": [
    "# Título"
   ]
  },
  {
   "cell_type": "markdown",
   "metadata": {},
   "source": [
    "# Integrantes \n",
    "### Vinicius Freitas Schiavinato Olzon                   | Matrícula: 20210026803\n",
    "### Gabriel de Lucca                                     | Matrícula: y\n",
    "### José Jesus                                           | Matrícula: z"
   ]
  },
  {
   "cell_type": "markdown",
   "metadata": {},
   "source": [
    "# Introdução"
   ]
  },
  {
   "cell_type": "markdown",
   "metadata": {},
   "source": [
    "A música está diretamente ligada a história da humanidade, em que a primeira música já feita data de 1.400 a.C., conhecida como Hino Hurriano para Nikkal, a qual foi feita em homenagem à deusa Nikkal, em que o autor é desconhecido, todavia, existem registros arqueológicos de instrumentos musicais precários que se assemelham a uma espécie de flauta que confirmam a relação da humanidade com a música desde 40.000 a.C.. Não somente, a música é capaz de expressar sentimentos que muitas vezes não são bem expostos da forma desejada com palavras e gestos, de tal forma que ela nasce como forma de socialização entre nós humanos, sendo desenvolvida principalmente com base nas sensações geradas a partir de estímulos sonoros.\n",
    "\n",
    "Com o passar dos séculos, houveram diversas mudanças culturais, sociais e econômicas, contudo, algo que permaneceu igual foi a necessidade e vontade dos seres humanos de expressarem suas frustrações e alegrias conforme o cenário atual da época, ou tão somente para a poesia, romance e outras formas de socialização com a comunidade. Assim, nada mais justo do que estudar algumas características musicais de diferentes períodos e analisar suas diferenças afim de obter informações, que, serão tomadas como fundamento para formular conclusões acerca do tema. "
   ]
  },
  {
   "cell_type": "markdown",
   "metadata": {},
   "source": [
    "# Objetivos"
   ]
  },
  {
   "cell_type": "markdown",
   "metadata": {},
   "source": [
    "Dessa forma, o objetivo desse projeto é, a partir do análise, limpeza e processamento dos dados, saber como as características musicais das canções se relacionam entre si, quais padrões musicais são detectados e descobrir como as características de cada música se transformaram com o passar dos anos, de maneira que ao final da leitura do projeto, seja elucidado algumas informações que antes não estavam claras, ou que traga algo de novo e interessante para o leitor em questão."
   ]
  },
  {
   "cell_type": "markdown",
   "metadata": {},
   "source": [
    "![img](https://free4kwallpapers.com/uploads/originals/2021/01/20/music-wallpaper.jpg)"
   ]
  },
  {
   "cell_type": "markdown",
   "metadata": {},
   "source": [
    "# Perguntas"
   ]
  },
  {
   "cell_type": "markdown",
   "metadata": {},
   "source": [
    "Algumas perguntas são cruciais para a análise e compreensão final desse projeto, de tal forma que as respotas dessas indagações são o foco principal do trabalho."
   ]
  },
  {
   "cell_type": "markdown",
   "metadata": {},
   "source": [
    "### O projeto gira em torno das seguintes questões:\n",
    " * Se uma música é considerada triste, quais são as palavras que mais tendem a aparecer nas letras dessa canção ? E em músicas românticas ?\n",
    "\n",
    " * O grau de obscenidade das músicas atuais permanece no mesmo nível das canções do século passado ?\n",
    "\n",
    " * Qual gênero musical é mais fácil de dançar ?\n",
    "\n",
    " * As músicas mais populares entre 2010 e 2019 têm alguma relação entre si ?\n",
    "\n",
    " * Qual o gênero musical mais ou menos popular entre 2010 e 2019 e quais tendem a crescer ou diminuir nos anos seguintes ?\n",
    "\n",
    " * A duração de uma música influencia na sua popularidade ? Existe uma duração específica para uma canção ter mais chance de se popularizar ?\n",
    " "
   ]
  },
  {
   "cell_type": "markdown",
   "metadata": {},
   "source": [
    "# Dados\n"
   ]
  },
  {
   "cell_type": "markdown",
   "metadata": {},
   "source": [
    "O projeto tem como base dois conjuntos de dados, o primeiro é sobre as músicas mais populares na plataforma de streaming Spotify entre os anos de 2010 e 2019, 2019 incluso, já o segundo trata sobre músicas aleatórias lançadas entre 1950 e 2019. Ambos os conjuntos são tratados e discutidos mais a fundo no projeto. Os dados foram obtidos na plataforma de uso público Kaggle, de maneira em que ambos os datasets são disponíveis para uso coletivo. Abaixo é explicado o significado de algumas palavras e termos usados nos datasets para a sua melhor compreensão."
   ]
  },
  {
   "cell_type": "markdown",
   "metadata": {},
   "source": [
    "Descrição do primeiro dataset (Músicas mais populares do Spotify de 2010 até 2019):\n",
    "\n",
    "Esse dataset tem um total de 603 linhas e 15 colunas, em que cada linha representa uma música, a qual tem suas características definidas nas colunas correspondentes. Abaixo é descrito o que cada coluna significa:\n",
    "\n",
    "- title: Título da canção\n",
    "\n",
    "- artist: Artista da canção\n",
    "\n",
    "- top genre: Gênero musical da canção\n",
    "\n",
    "- year: Ano de lançamento da canção\n",
    "\n",
    "- bpm: Batidas por minutos da canção\n",
    "\n",
    "- nrgy: Índice de energia da canção (Quanto maior for o valor mais energética é a canção)\n",
    "\n",
    "- dnce: Índice de dançabilidade da canção (Quanto maior for o valor mais fácil é de dançar a canção)\n",
    "\n",
    "- dB: Decibéis da canção (são números negativos)\n",
    "\n",
    "- live: Índice de vivacidade da canção (Quanto maior for o valor mais provável da canção ser ao vivo)\n",
    "\n",
    "- val: Índice sentimental da canção (Quanto maior for o valor mais a canção é alegre/positiva)\n",
    "\n",
    "- dur: Duração da canção (Em segundos)\n",
    "\n",
    "- acous: Índice de acústica da canção (Quanto maior for o valor mais acústica é a música)\n",
    "\n",
    "- spch: Índice de fala da canção (Quanto maior for o valor mais palavras cantadas tem a música)\n",
    "\n",
    "- pop: Índice de popularidade da canção (Quanto maior for o valor mais popular é a música)\n"
   ]
  },
  {
   "cell_type": "markdown",
   "metadata": {},
   "source": [
    "Descrição do segundo dataset (Músicas de 1950 até 2019):\n",
    " \n",
    "Esse dataset tem um total de 28.372  linhas e 31 colunas, em que, tal como o primeiro dataset, cada linha representa uma música, a qual tem suas características definidas nas colunas correspondentes. Abaixo é descrito o que cada coluna significa:\n",
    "\n",
    "- artist_name: Indica o artista da canção\n",
    "\n",
    "- track_name: Indica o título da canção\n",
    "\n",
    "- release_date: Indica o ano de lançamento da canção\n",
    "\n",
    "- genre: Indica o gênero musical da canção\n",
    "\n",
    "- lyrics: Letras da música\n",
    "\n",
    "- len: Indica a duração da música\n",
    "\n",
    "- dating: Índice do quanto a canção é ligada a assuntos sobre namoro\n",
    "\n",
    "- violence: Índice do quanto a canção é ligada é violenta\n",
    "\n",
    "- world/life: Índice do quanto a canção é ligada com a natureza\n",
    "\n",
    "- night/time: Índice do quanto a música é ligada com o período noturno\n",
    "\n",
    "- shake the audience: Índice do quanto a canção consegue movimentar a audiência\n",
    "\n",
    "- family/gospel: Índice do quanto a canção é ligada a assuntos de família e evangelho\n",
    "\n",
    "- romantic: Índice do quanto a canção é romântica\n",
    "\n",
    "- communication: Índice do quanto a canção é comunicativa em suas letras\n",
    "\n",
    "- obscene: Índice do quanto a canção é obscena\n",
    "\n",
    "- music: Índice do quanto a canção é considerada musical\n",
    "\n",
    "- movement/places: Índice do quanto a música demonstra a sensação de movimento\n",
    "\n",
    "- light/visual perceptions: Índice do quanto a música descreve percepções visuais\n",
    "\n",
    "- family/spiritual: Índice do quanto a canção é ligada a assuntos espirituais\n",
    "\n",
    "- like/girls: Índice do quanto a música é considerada feminina\n",
    "\n",
    "- sadness: Índice do quanto a música descreve é triste\n",
    "\n",
    "- danceability: Índice do quanto a canção é facil de ser dançada\n",
    "\n",
    "- loudness: Índice do quanto a música é alta\n",
    "\n",
    "- acousticness: Índice do quanto a música é acústica\n",
    "\n",
    "- instrumentalness: Índice do quanto a música é considerada instrumental\n",
    "\n",
    "- valence: Índice do quanto a canção é como positiva e alegre\n",
    "\n",
    "- energy: Índice do quanto a canção é energética\n",
    "\n",
    "- topic: Indica sobre o que a música se trata\n",
    "\n",
    "- age: Índice do quanto a canção fala sobre a idade das pessoas em suas letras"
   ]
  },
  {
   "cell_type": "markdown",
   "metadata": {},
   "source": [
    "### Bibliotecas utilizadas\n",
    "Para o melhor desenvolvimento e entedimento, não só do leitor, do projeto ao decorrer da sua leitura, é feito o uso de algumas bibliotecas que servem de base para a melhor análise, limpeza e processamento dos dados, e outras para a demonstração, de forma gráfica, de algumas informações e conclusões acerca do tema em questão;"
   ]
  },
  {
   "cell_type": "code",
   "execution_count": 458,
   "metadata": {},
   "outputs": [],
   "source": [
    "import pandas as pd\n",
    "import numpy as np\n",
    "import seaborn as sns\n",
    "import matplotlib.pyplot as plt\n",
    "\n",
    "from collections import Counter\n",
    "\n",
    "from sklearn.cluster import KMeans\n",
    "from sklearn.preprocessing import MinMaxScaler"
   ]
  },
  {
   "cell_type": "markdown",
   "metadata": {},
   "source": [
    "### Importando os datasets"
   ]
  },
  {
   "cell_type": "code",
   "execution_count": null,
   "metadata": {},
   "outputs": [],
   "source": [
    "data_2010_2019 = pd.read_csv(\"top10s.csv\")\n",
    "data_1950_2019 = pd.read_csv(\"1950-2019.csv\")\n",
    "first_df = pd.DataFrame(data_2010_2019)\n",
    "second_df = pd.DataFrame(data_1950_2019)"
   ]
  },
  {
   "cell_type": "markdown",
   "metadata": {},
   "source": [
    "### Com as bibliotecas necessárias para o desenvolvimento do projeto já incluídas, é possível iniciar a exploração dos dados\n",
    "Aqui é feita uma análise mais superficial dos datasets, todavia muito importante para o trabalho, que serve para decidir quais dados são úteis, quais não são e o quais informações são possíveis de serem extraídas desses dados."
   ]
  },
  {
   "cell_type": "markdown",
   "metadata": {},
   "source": [
    "Primeiro será feita a análise e exploração do dataset que trata sobre as músicas mais populares do Spotify entre 2010 e 2019:"
   ]
  },
  {
   "cell_type": "markdown",
   "metadata": {},
   "source": [
    "Aqui é exibido as 10 primeiras linhas desse conjunto de dados:"
   ]
  },
  {
   "cell_type": "code",
   "execution_count": 460,
   "metadata": {},
   "outputs": [
    {
     "data": {
      "text/html": [
       "<div>\n",
       "<style scoped>\n",
       "    .dataframe tbody tr th:only-of-type {\n",
       "        vertical-align: middle;\n",
       "    }\n",
       "\n",
       "    .dataframe tbody tr th {\n",
       "        vertical-align: top;\n",
       "    }\n",
       "\n",
       "    .dataframe thead th {\n",
       "        text-align: right;\n",
       "    }\n",
       "</style>\n",
       "<table border=\"1\" class=\"dataframe\">\n",
       "  <thead>\n",
       "    <tr style=\"text-align: right;\">\n",
       "      <th></th>\n",
       "      <th>Unnamed: 0</th>\n",
       "      <th>title</th>\n",
       "      <th>artist</th>\n",
       "      <th>top genre</th>\n",
       "      <th>year</th>\n",
       "      <th>bpm</th>\n",
       "      <th>nrgy</th>\n",
       "      <th>dnce</th>\n",
       "      <th>dB</th>\n",
       "      <th>live</th>\n",
       "      <th>val</th>\n",
       "      <th>dur</th>\n",
       "      <th>acous</th>\n",
       "      <th>spch</th>\n",
       "      <th>pop</th>\n",
       "    </tr>\n",
       "  </thead>\n",
       "  <tbody>\n",
       "    <tr>\n",
       "      <th>0</th>\n",
       "      <td>1</td>\n",
       "      <td>Hey, Soul Sister</td>\n",
       "      <td>Train</td>\n",
       "      <td>neo mellow</td>\n",
       "      <td>2010</td>\n",
       "      <td>97</td>\n",
       "      <td>89</td>\n",
       "      <td>67</td>\n",
       "      <td>-4</td>\n",
       "      <td>8</td>\n",
       "      <td>80</td>\n",
       "      <td>217</td>\n",
       "      <td>19</td>\n",
       "      <td>4</td>\n",
       "      <td>83</td>\n",
       "    </tr>\n",
       "    <tr>\n",
       "      <th>1</th>\n",
       "      <td>2</td>\n",
       "      <td>Love The Way You Lie</td>\n",
       "      <td>Eminem</td>\n",
       "      <td>detroit hip hop</td>\n",
       "      <td>2010</td>\n",
       "      <td>87</td>\n",
       "      <td>93</td>\n",
       "      <td>75</td>\n",
       "      <td>-5</td>\n",
       "      <td>52</td>\n",
       "      <td>64</td>\n",
       "      <td>263</td>\n",
       "      <td>24</td>\n",
       "      <td>23</td>\n",
       "      <td>82</td>\n",
       "    </tr>\n",
       "    <tr>\n",
       "      <th>2</th>\n",
       "      <td>3</td>\n",
       "      <td>TiK ToK</td>\n",
       "      <td>Kesha</td>\n",
       "      <td>dance pop</td>\n",
       "      <td>2010</td>\n",
       "      <td>120</td>\n",
       "      <td>84</td>\n",
       "      <td>76</td>\n",
       "      <td>-3</td>\n",
       "      <td>29</td>\n",
       "      <td>71</td>\n",
       "      <td>200</td>\n",
       "      <td>10</td>\n",
       "      <td>14</td>\n",
       "      <td>80</td>\n",
       "    </tr>\n",
       "    <tr>\n",
       "      <th>3</th>\n",
       "      <td>4</td>\n",
       "      <td>Bad Romance</td>\n",
       "      <td>Lady Gaga</td>\n",
       "      <td>dance pop</td>\n",
       "      <td>2010</td>\n",
       "      <td>119</td>\n",
       "      <td>92</td>\n",
       "      <td>70</td>\n",
       "      <td>-4</td>\n",
       "      <td>8</td>\n",
       "      <td>71</td>\n",
       "      <td>295</td>\n",
       "      <td>0</td>\n",
       "      <td>4</td>\n",
       "      <td>79</td>\n",
       "    </tr>\n",
       "    <tr>\n",
       "      <th>4</th>\n",
       "      <td>5</td>\n",
       "      <td>Just the Way You Are</td>\n",
       "      <td>Bruno Mars</td>\n",
       "      <td>pop</td>\n",
       "      <td>2010</td>\n",
       "      <td>109</td>\n",
       "      <td>84</td>\n",
       "      <td>64</td>\n",
       "      <td>-5</td>\n",
       "      <td>9</td>\n",
       "      <td>43</td>\n",
       "      <td>221</td>\n",
       "      <td>2</td>\n",
       "      <td>4</td>\n",
       "      <td>78</td>\n",
       "    </tr>\n",
       "    <tr>\n",
       "      <th>5</th>\n",
       "      <td>6</td>\n",
       "      <td>Baby</td>\n",
       "      <td>Justin Bieber</td>\n",
       "      <td>canadian pop</td>\n",
       "      <td>2010</td>\n",
       "      <td>65</td>\n",
       "      <td>86</td>\n",
       "      <td>73</td>\n",
       "      <td>-5</td>\n",
       "      <td>11</td>\n",
       "      <td>54</td>\n",
       "      <td>214</td>\n",
       "      <td>4</td>\n",
       "      <td>14</td>\n",
       "      <td>77</td>\n",
       "    </tr>\n",
       "    <tr>\n",
       "      <th>6</th>\n",
       "      <td>7</td>\n",
       "      <td>Dynamite</td>\n",
       "      <td>Taio Cruz</td>\n",
       "      <td>dance pop</td>\n",
       "      <td>2010</td>\n",
       "      <td>120</td>\n",
       "      <td>78</td>\n",
       "      <td>75</td>\n",
       "      <td>-4</td>\n",
       "      <td>4</td>\n",
       "      <td>82</td>\n",
       "      <td>203</td>\n",
       "      <td>0</td>\n",
       "      <td>9</td>\n",
       "      <td>77</td>\n",
       "    </tr>\n",
       "    <tr>\n",
       "      <th>7</th>\n",
       "      <td>8</td>\n",
       "      <td>Secrets</td>\n",
       "      <td>OneRepublic</td>\n",
       "      <td>dance pop</td>\n",
       "      <td>2010</td>\n",
       "      <td>148</td>\n",
       "      <td>76</td>\n",
       "      <td>52</td>\n",
       "      <td>-6</td>\n",
       "      <td>12</td>\n",
       "      <td>38</td>\n",
       "      <td>225</td>\n",
       "      <td>7</td>\n",
       "      <td>4</td>\n",
       "      <td>77</td>\n",
       "    </tr>\n",
       "    <tr>\n",
       "      <th>8</th>\n",
       "      <td>9</td>\n",
       "      <td>Empire State of Mind (Part II) Broken Down</td>\n",
       "      <td>Alicia Keys</td>\n",
       "      <td>hip pop</td>\n",
       "      <td>2010</td>\n",
       "      <td>93</td>\n",
       "      <td>37</td>\n",
       "      <td>48</td>\n",
       "      <td>-8</td>\n",
       "      <td>12</td>\n",
       "      <td>14</td>\n",
       "      <td>216</td>\n",
       "      <td>74</td>\n",
       "      <td>3</td>\n",
       "      <td>76</td>\n",
       "    </tr>\n",
       "    <tr>\n",
       "      <th>9</th>\n",
       "      <td>10</td>\n",
       "      <td>Only Girl (In The World)</td>\n",
       "      <td>Rihanna</td>\n",
       "      <td>barbadian pop</td>\n",
       "      <td>2010</td>\n",
       "      <td>126</td>\n",
       "      <td>72</td>\n",
       "      <td>79</td>\n",
       "      <td>-4</td>\n",
       "      <td>7</td>\n",
       "      <td>61</td>\n",
       "      <td>235</td>\n",
       "      <td>13</td>\n",
       "      <td>4</td>\n",
       "      <td>73</td>\n",
       "    </tr>\n",
       "  </tbody>\n",
       "</table>\n",
       "</div>"
      ],
      "text/plain": [
       "   Unnamed: 0                                       title         artist  \\\n",
       "0           1                            Hey, Soul Sister          Train   \n",
       "1           2                        Love The Way You Lie         Eminem   \n",
       "2           3                                     TiK ToK          Kesha   \n",
       "3           4                                 Bad Romance      Lady Gaga   \n",
       "4           5                        Just the Way You Are     Bruno Mars   \n",
       "5           6                                        Baby  Justin Bieber   \n",
       "6           7                                    Dynamite      Taio Cruz   \n",
       "7           8                                     Secrets    OneRepublic   \n",
       "8           9  Empire State of Mind (Part II) Broken Down    Alicia Keys   \n",
       "9          10                    Only Girl (In The World)        Rihanna   \n",
       "\n",
       "         top genre  year  bpm  nrgy  dnce  dB  live  val  dur  acous  spch  \\\n",
       "0       neo mellow  2010   97    89    67  -4     8   80  217     19     4   \n",
       "1  detroit hip hop  2010   87    93    75  -5    52   64  263     24    23   \n",
       "2        dance pop  2010  120    84    76  -3    29   71  200     10    14   \n",
       "3        dance pop  2010  119    92    70  -4     8   71  295      0     4   \n",
       "4              pop  2010  109    84    64  -5     9   43  221      2     4   \n",
       "5     canadian pop  2010   65    86    73  -5    11   54  214      4    14   \n",
       "6        dance pop  2010  120    78    75  -4     4   82  203      0     9   \n",
       "7        dance pop  2010  148    76    52  -6    12   38  225      7     4   \n",
       "8          hip pop  2010   93    37    48  -8    12   14  216     74     3   \n",
       "9    barbadian pop  2010  126    72    79  -4     7   61  235     13     4   \n",
       "\n",
       "   pop  \n",
       "0   83  \n",
       "1   82  \n",
       "2   80  \n",
       "3   79  \n",
       "4   78  \n",
       "5   77  \n",
       "6   77  \n",
       "7   77  \n",
       "8   76  \n",
       "9   73  "
      ]
     },
     "execution_count": 460,
     "metadata": {},
     "output_type": "execute_result"
    }
   ],
   "source": [
    "first_df.head(10)"
   ]
  },
  {
   "cell_type": "markdown",
   "metadata": {},
   "source": [
    "Primeiramente, o que foi observado com mais destaque foi o fato de existirem diversos subgêneros dentro do gênero pop, o que irá dificultar o trabalho daqui pra frente. Logo, será preciso ser feita uma filtragem desses subgêneros de tal forma que todos as variações do pop estejam descritas apenas como \"Pop\". O mesmo será feito para cada gênero e seus subgêneros. "
   ]
  },
  {
   "cell_type": "markdown",
   "metadata": {},
   "source": [
    "Não somente, a coluna com o nome de \"Unnamed: 0\" não tem uso algum para o desenvolvimento do projeto, por isso ela será descartada."
   ]
  },
  {
   "cell_type": "markdown",
   "metadata": {},
   "source": [
    "- Descartando a coluna \"Unnamed: 0\";"
   ]
  },
  {
   "cell_type": "code",
   "execution_count": 461,
   "metadata": {},
   "outputs": [],
   "source": [
    "first_df = first_df.drop(\"Unnamed: 0\", axis = 1)"
   ]
  },
  {
   "cell_type": "markdown",
   "metadata": {},
   "source": [
    "- Filtrando os gêneros;"
   ]
  },
  {
   "cell_type": "code",
   "execution_count": 462,
   "metadata": {},
   "outputs": [],
   "source": [
    "first_df[\"top genre\"] = first_df[\"top genre\"].apply(lambda x: \"Hip hop\" if \"hip hop\" in x else x)\n",
    "first_df[\"top genre\"] = first_df[\"top genre\"].apply(lambda x: \"Hip hop\" if \"rap\" in x else x)\n",
    "first_df[\"top genre\"] = first_df[\"top genre\"].apply(lambda x: \"Hip hop\" if \"hollywood\" in x else x)\n",
    "first_df[\"top genre\"] = first_df[\"top genre\"].apply(lambda x: \"Rock\" if \"rock\" in x else x)\n",
    "first_df[\"top genre\"] = first_df[\"top genre\"].apply(lambda x: \"Rock\" if \"permanent wave\" in x else x)\n",
    "first_df[\"top genre\"] = first_df[\"top genre\"].apply(lambda x: \"Rock\" if \"indie\" in x else x)\n",
    "first_df[\"top genre\"] = first_df[\"top genre\"].apply(lambda x: \"Electronic\" if \"electronic\" in x else x)\n",
    "first_df[\"top genre\"] = first_df[\"top genre\"].apply(lambda x: \"Electronic\" if \"electro\" in x else x)\n",
    "first_df[\"top genre\"] = first_df[\"top genre\"].apply(lambda x: \"Electronic\" if \"house\" in x else x)\n",
    "first_df[\"top genre\"] = first_df[\"top genre\"].apply(lambda x: \"Electronic\" if \"edm\" in x else x)\n",
    "first_df[\"top genre\"] = first_df[\"top genre\"].apply(lambda x: \"Electronic\" if \"belgian edm\" in x else x)\n",
    "first_df[\"top genre\"] = first_df[\"top genre\"].apply(lambda x: \"Electronic\" if \"complextro\" in x else x)\n",
    "first_df[\"top genre\"] = first_df[\"top genre\"].apply(lambda x: \"Electronic\" if \"downtempo\" in x else x)\n",
    "first_df[\"top genre\"] = first_df[\"top genre\"].apply(lambda x: \"Electronic\" if \"brostep\" in x else x)\n",
    "first_df[\"top genre\"] = first_df[\"top genre\"].apply(lambda x: \"Electronic\" if \"escape room\" in x else x)\n",
    "first_df[\"top genre\"] = first_df[\"top genre\"].apply(lambda x: \"Electronic\" if \"big room\" in x else x)\n",
    "first_df[\"top genre\"] = first_df[\"top genre\"].apply(lambda x: \"Pop\" if \"pop\" in x else x)\n",
    "first_df[\"top genre\"] = first_df[\"top genre\"].apply(lambda x: \"Pop\" if \"australian dance\" in x else x)\n",
    "first_df[\"top genre\"] = first_df[\"top genre\"].apply(lambda x: \"Pop\" if \"boy band\" in x else x)\n",
    "first_df[\"top genre\"] = first_df[\"top genre\"].apply(lambda x: \"Pop\" if \"neo mellow\" in x else x)\n",
    "first_df[\"top genre\"] = first_df[\"top genre\"].apply(lambda x: \"Pop\" if \"irish\" in x else x)\n",
    "first_df[\"top genre\"] = first_df[\"top genre\"].apply(lambda x: \"Soul\" if \"soul\" in x else x)\n",
    "first_df[\"top genre\"] = first_df[\"top genre\"].apply(lambda x: \"Soul\" if \"country\" in x else x)\n",
    "first_df[\"top genre\"] = first_df[\"top genre\"].apply(lambda x: \"Soul\" if \"pop\" in x else x)\n",
    "first_df[\"top genre\"] = first_df[\"top genre\"].apply(lambda x: \"Soul\" if \"r&b\" in x else x)\n",
    "first_df[\"top genre\"] = first_df[\"top genre\"].apply(lambda x: \"Latin\" if \"latin\" in x else x)\n"
   ]
  },
  {
   "cell_type": "markdown",
   "metadata": {},
   "source": [
    "Aqui pode ser visto o resultado da filtração dos gêneros:"
   ]
  },
  {
   "cell_type": "code",
   "execution_count": 463,
   "metadata": {},
   "outputs": [
    {
     "data": {
      "text/plain": [
       "array(['Pop', 'Hip hop', 'Rock', 'Electronic', 'Soul', 'Latin'],\n",
       "      dtype=object)"
      ]
     },
     "execution_count": 463,
     "metadata": {},
     "output_type": "execute_result"
    }
   ],
   "source": [
    "first_df[\"top genre\"].unique()"
   ]
  },
  {
   "cell_type": "markdown",
   "metadata": {},
   "source": [
    "Após a limpeza dos dados desse dataset, já é possível analisar as medidas de centralidade e dispersão dessas características musicais:"
   ]
  },
  {
   "cell_type": "code",
   "execution_count": 464,
   "metadata": {},
   "outputs": [
    {
     "data": {
      "text/html": [
       "<div>\n",
       "<style scoped>\n",
       "    .dataframe tbody tr th:only-of-type {\n",
       "        vertical-align: middle;\n",
       "    }\n",
       "\n",
       "    .dataframe tbody tr th {\n",
       "        vertical-align: top;\n",
       "    }\n",
       "\n",
       "    .dataframe thead th {\n",
       "        text-align: right;\n",
       "    }\n",
       "</style>\n",
       "<table border=\"1\" class=\"dataframe\">\n",
       "  <thead>\n",
       "    <tr style=\"text-align: right;\">\n",
       "      <th></th>\n",
       "      <th>year</th>\n",
       "      <th>bpm</th>\n",
       "      <th>nrgy</th>\n",
       "      <th>dnce</th>\n",
       "      <th>dB</th>\n",
       "      <th>live</th>\n",
       "      <th>val</th>\n",
       "      <th>dur</th>\n",
       "      <th>acous</th>\n",
       "      <th>spch</th>\n",
       "      <th>pop</th>\n",
       "    </tr>\n",
       "  </thead>\n",
       "  <tbody>\n",
       "    <tr>\n",
       "      <th>count</th>\n",
       "      <td>603.000000</td>\n",
       "      <td>603.000000</td>\n",
       "      <td>603.000000</td>\n",
       "      <td>603.000000</td>\n",
       "      <td>603.000000</td>\n",
       "      <td>603.000000</td>\n",
       "      <td>603.000000</td>\n",
       "      <td>603.000000</td>\n",
       "      <td>603.000000</td>\n",
       "      <td>603.000000</td>\n",
       "      <td>603.000000</td>\n",
       "    </tr>\n",
       "    <tr>\n",
       "      <th>mean</th>\n",
       "      <td>2014.592040</td>\n",
       "      <td>118.545605</td>\n",
       "      <td>70.504146</td>\n",
       "      <td>64.379768</td>\n",
       "      <td>-5.578773</td>\n",
       "      <td>17.774461</td>\n",
       "      <td>52.225539</td>\n",
       "      <td>224.674959</td>\n",
       "      <td>14.326700</td>\n",
       "      <td>8.358209</td>\n",
       "      <td>66.520730</td>\n",
       "    </tr>\n",
       "    <tr>\n",
       "      <th>std</th>\n",
       "      <td>2.607057</td>\n",
       "      <td>24.795358</td>\n",
       "      <td>16.310664</td>\n",
       "      <td>13.378718</td>\n",
       "      <td>2.798020</td>\n",
       "      <td>13.102543</td>\n",
       "      <td>22.513020</td>\n",
       "      <td>34.130059</td>\n",
       "      <td>20.766165</td>\n",
       "      <td>7.483162</td>\n",
       "      <td>14.517746</td>\n",
       "    </tr>\n",
       "    <tr>\n",
       "      <th>min</th>\n",
       "      <td>2010.000000</td>\n",
       "      <td>0.000000</td>\n",
       "      <td>0.000000</td>\n",
       "      <td>0.000000</td>\n",
       "      <td>-60.000000</td>\n",
       "      <td>0.000000</td>\n",
       "      <td>0.000000</td>\n",
       "      <td>134.000000</td>\n",
       "      <td>0.000000</td>\n",
       "      <td>0.000000</td>\n",
       "      <td>0.000000</td>\n",
       "    </tr>\n",
       "    <tr>\n",
       "      <th>25%</th>\n",
       "      <td>2013.000000</td>\n",
       "      <td>100.000000</td>\n",
       "      <td>61.000000</td>\n",
       "      <td>57.000000</td>\n",
       "      <td>-6.000000</td>\n",
       "      <td>9.000000</td>\n",
       "      <td>35.000000</td>\n",
       "      <td>202.000000</td>\n",
       "      <td>2.000000</td>\n",
       "      <td>4.000000</td>\n",
       "      <td>60.000000</td>\n",
       "    </tr>\n",
       "    <tr>\n",
       "      <th>50%</th>\n",
       "      <td>2015.000000</td>\n",
       "      <td>120.000000</td>\n",
       "      <td>74.000000</td>\n",
       "      <td>66.000000</td>\n",
       "      <td>-5.000000</td>\n",
       "      <td>12.000000</td>\n",
       "      <td>52.000000</td>\n",
       "      <td>221.000000</td>\n",
       "      <td>6.000000</td>\n",
       "      <td>5.000000</td>\n",
       "      <td>69.000000</td>\n",
       "    </tr>\n",
       "    <tr>\n",
       "      <th>75%</th>\n",
       "      <td>2017.000000</td>\n",
       "      <td>129.000000</td>\n",
       "      <td>82.000000</td>\n",
       "      <td>73.000000</td>\n",
       "      <td>-4.000000</td>\n",
       "      <td>24.000000</td>\n",
       "      <td>69.000000</td>\n",
       "      <td>239.500000</td>\n",
       "      <td>17.000000</td>\n",
       "      <td>9.000000</td>\n",
       "      <td>76.000000</td>\n",
       "    </tr>\n",
       "    <tr>\n",
       "      <th>max</th>\n",
       "      <td>2019.000000</td>\n",
       "      <td>206.000000</td>\n",
       "      <td>98.000000</td>\n",
       "      <td>97.000000</td>\n",
       "      <td>-2.000000</td>\n",
       "      <td>74.000000</td>\n",
       "      <td>98.000000</td>\n",
       "      <td>424.000000</td>\n",
       "      <td>99.000000</td>\n",
       "      <td>48.000000</td>\n",
       "      <td>99.000000</td>\n",
       "    </tr>\n",
       "  </tbody>\n",
       "</table>\n",
       "</div>"
      ],
      "text/plain": [
       "              year         bpm        nrgy        dnce          dB  \\\n",
       "count   603.000000  603.000000  603.000000  603.000000  603.000000   \n",
       "mean   2014.592040  118.545605   70.504146   64.379768   -5.578773   \n",
       "std       2.607057   24.795358   16.310664   13.378718    2.798020   \n",
       "min    2010.000000    0.000000    0.000000    0.000000  -60.000000   \n",
       "25%    2013.000000  100.000000   61.000000   57.000000   -6.000000   \n",
       "50%    2015.000000  120.000000   74.000000   66.000000   -5.000000   \n",
       "75%    2017.000000  129.000000   82.000000   73.000000   -4.000000   \n",
       "max    2019.000000  206.000000   98.000000   97.000000   -2.000000   \n",
       "\n",
       "             live         val         dur       acous        spch         pop  \n",
       "count  603.000000  603.000000  603.000000  603.000000  603.000000  603.000000  \n",
       "mean    17.774461   52.225539  224.674959   14.326700    8.358209   66.520730  \n",
       "std     13.102543   22.513020   34.130059   20.766165    7.483162   14.517746  \n",
       "min      0.000000    0.000000  134.000000    0.000000    0.000000    0.000000  \n",
       "25%      9.000000   35.000000  202.000000    2.000000    4.000000   60.000000  \n",
       "50%     12.000000   52.000000  221.000000    6.000000    5.000000   69.000000  \n",
       "75%     24.000000   69.000000  239.500000   17.000000    9.000000   76.000000  \n",
       "max     74.000000   98.000000  424.000000   99.000000   48.000000   99.000000  "
      ]
     },
     "execution_count": 464,
     "metadata": {},
     "output_type": "execute_result"
    }
   ],
   "source": [
    "first_df.describe()"
   ]
  },
  {
   "cell_type": "markdown",
   "metadata": {},
   "source": [
    "Com isso feito, o primeiro dataset está pronto para ser utilizado nas análises mais adiante."
   ]
  },
  {
   "cell_type": "markdown",
   "metadata": {},
   "source": [
    "Agora será feita a análise e exploração do dataset que trata sobre músicas lançadas entre 1950 e 2019:\n"
   ]
  },
  {
   "cell_type": "markdown",
   "metadata": {},
   "source": [
    "Aqui é exibido as 5 primeiras linhas desse dataset:"
   ]
  },
  {
   "cell_type": "code",
   "execution_count": 465,
   "metadata": {},
   "outputs": [
    {
     "data": {
      "text/html": [
       "<div>\n",
       "<style scoped>\n",
       "    .dataframe tbody tr th:only-of-type {\n",
       "        vertical-align: middle;\n",
       "    }\n",
       "\n",
       "    .dataframe tbody tr th {\n",
       "        vertical-align: top;\n",
       "    }\n",
       "\n",
       "    .dataframe thead th {\n",
       "        text-align: right;\n",
       "    }\n",
       "</style>\n",
       "<table border=\"1\" class=\"dataframe\">\n",
       "  <thead>\n",
       "    <tr style=\"text-align: right;\">\n",
       "      <th></th>\n",
       "      <th>Unnamed: 0</th>\n",
       "      <th>artist_name</th>\n",
       "      <th>track_name</th>\n",
       "      <th>release_date</th>\n",
       "      <th>genre</th>\n",
       "      <th>lyrics</th>\n",
       "      <th>len</th>\n",
       "      <th>dating</th>\n",
       "      <th>violence</th>\n",
       "      <th>world/life</th>\n",
       "      <th>...</th>\n",
       "      <th>sadness</th>\n",
       "      <th>feelings</th>\n",
       "      <th>danceability</th>\n",
       "      <th>loudness</th>\n",
       "      <th>acousticness</th>\n",
       "      <th>instrumentalness</th>\n",
       "      <th>valence</th>\n",
       "      <th>energy</th>\n",
       "      <th>topic</th>\n",
       "      <th>age</th>\n",
       "    </tr>\n",
       "  </thead>\n",
       "  <tbody>\n",
       "    <tr>\n",
       "      <th>0</th>\n",
       "      <td>0</td>\n",
       "      <td>mukesh</td>\n",
       "      <td>mohabbat bhi jhoothi</td>\n",
       "      <td>1950</td>\n",
       "      <td>pop</td>\n",
       "      <td>hold time feel break feel untrue convince spea...</td>\n",
       "      <td>95</td>\n",
       "      <td>0.000598</td>\n",
       "      <td>0.063746</td>\n",
       "      <td>0.000598</td>\n",
       "      <td>...</td>\n",
       "      <td>0.380299</td>\n",
       "      <td>0.117175</td>\n",
       "      <td>0.357739</td>\n",
       "      <td>0.454119</td>\n",
       "      <td>0.997992</td>\n",
       "      <td>0.901822</td>\n",
       "      <td>0.339448</td>\n",
       "      <td>0.137110</td>\n",
       "      <td>sadness</td>\n",
       "      <td>1.0</td>\n",
       "    </tr>\n",
       "    <tr>\n",
       "      <th>1</th>\n",
       "      <td>4</td>\n",
       "      <td>frankie laine</td>\n",
       "      <td>i believe</td>\n",
       "      <td>1950</td>\n",
       "      <td>pop</td>\n",
       "      <td>believe drop rain fall grow believe darkest ni...</td>\n",
       "      <td>51</td>\n",
       "      <td>0.035537</td>\n",
       "      <td>0.096777</td>\n",
       "      <td>0.443435</td>\n",
       "      <td>...</td>\n",
       "      <td>0.001284</td>\n",
       "      <td>0.001284</td>\n",
       "      <td>0.331745</td>\n",
       "      <td>0.647540</td>\n",
       "      <td>0.954819</td>\n",
       "      <td>0.000002</td>\n",
       "      <td>0.325021</td>\n",
       "      <td>0.263240</td>\n",
       "      <td>world/life</td>\n",
       "      <td>1.0</td>\n",
       "    </tr>\n",
       "    <tr>\n",
       "      <th>2</th>\n",
       "      <td>6</td>\n",
       "      <td>johnnie ray</td>\n",
       "      <td>cry</td>\n",
       "      <td>1950</td>\n",
       "      <td>pop</td>\n",
       "      <td>sweetheart send letter goodbye secret feel bet...</td>\n",
       "      <td>24</td>\n",
       "      <td>0.002770</td>\n",
       "      <td>0.002770</td>\n",
       "      <td>0.002770</td>\n",
       "      <td>...</td>\n",
       "      <td>0.002770</td>\n",
       "      <td>0.225422</td>\n",
       "      <td>0.456298</td>\n",
       "      <td>0.585288</td>\n",
       "      <td>0.840361</td>\n",
       "      <td>0.000000</td>\n",
       "      <td>0.351814</td>\n",
       "      <td>0.139112</td>\n",
       "      <td>music</td>\n",
       "      <td>1.0</td>\n",
       "    </tr>\n",
       "    <tr>\n",
       "      <th>3</th>\n",
       "      <td>10</td>\n",
       "      <td>pérez prado</td>\n",
       "      <td>patricia</td>\n",
       "      <td>1950</td>\n",
       "      <td>pop</td>\n",
       "      <td>kiss lips want stroll charm mambo chacha merin...</td>\n",
       "      <td>54</td>\n",
       "      <td>0.048249</td>\n",
       "      <td>0.001548</td>\n",
       "      <td>0.001548</td>\n",
       "      <td>...</td>\n",
       "      <td>0.225889</td>\n",
       "      <td>0.001548</td>\n",
       "      <td>0.686992</td>\n",
       "      <td>0.744404</td>\n",
       "      <td>0.083935</td>\n",
       "      <td>0.199393</td>\n",
       "      <td>0.775350</td>\n",
       "      <td>0.743736</td>\n",
       "      <td>romantic</td>\n",
       "      <td>1.0</td>\n",
       "    </tr>\n",
       "    <tr>\n",
       "      <th>4</th>\n",
       "      <td>12</td>\n",
       "      <td>giorgos papadopoulos</td>\n",
       "      <td>apopse eida oneiro</td>\n",
       "      <td>1950</td>\n",
       "      <td>pop</td>\n",
       "      <td>till darling till matter know till dream live ...</td>\n",
       "      <td>48</td>\n",
       "      <td>0.001350</td>\n",
       "      <td>0.001350</td>\n",
       "      <td>0.417772</td>\n",
       "      <td>...</td>\n",
       "      <td>0.068800</td>\n",
       "      <td>0.001350</td>\n",
       "      <td>0.291671</td>\n",
       "      <td>0.646489</td>\n",
       "      <td>0.975904</td>\n",
       "      <td>0.000246</td>\n",
       "      <td>0.597073</td>\n",
       "      <td>0.394375</td>\n",
       "      <td>romantic</td>\n",
       "      <td>1.0</td>\n",
       "    </tr>\n",
       "  </tbody>\n",
       "</table>\n",
       "<p>5 rows × 31 columns</p>\n",
       "</div>"
      ],
      "text/plain": [
       "   Unnamed: 0           artist_name            track_name  release_date genre  \\\n",
       "0           0                mukesh  mohabbat bhi jhoothi          1950   pop   \n",
       "1           4         frankie laine             i believe          1950   pop   \n",
       "2           6           johnnie ray                   cry          1950   pop   \n",
       "3          10           pérez prado              patricia          1950   pop   \n",
       "4          12  giorgos papadopoulos    apopse eida oneiro          1950   pop   \n",
       "\n",
       "                                              lyrics  len    dating  violence  \\\n",
       "0  hold time feel break feel untrue convince spea...   95  0.000598  0.063746   \n",
       "1  believe drop rain fall grow believe darkest ni...   51  0.035537  0.096777   \n",
       "2  sweetheart send letter goodbye secret feel bet...   24  0.002770  0.002770   \n",
       "3  kiss lips want stroll charm mambo chacha merin...   54  0.048249  0.001548   \n",
       "4  till darling till matter know till dream live ...   48  0.001350  0.001350   \n",
       "\n",
       "   world/life  ...   sadness  feelings  danceability  loudness  acousticness  \\\n",
       "0    0.000598  ...  0.380299  0.117175      0.357739  0.454119      0.997992   \n",
       "1    0.443435  ...  0.001284  0.001284      0.331745  0.647540      0.954819   \n",
       "2    0.002770  ...  0.002770  0.225422      0.456298  0.585288      0.840361   \n",
       "3    0.001548  ...  0.225889  0.001548      0.686992  0.744404      0.083935   \n",
       "4    0.417772  ...  0.068800  0.001350      0.291671  0.646489      0.975904   \n",
       "\n",
       "   instrumentalness   valence    energy       topic  age  \n",
       "0          0.901822  0.339448  0.137110     sadness  1.0  \n",
       "1          0.000002  0.325021  0.263240  world/life  1.0  \n",
       "2          0.000000  0.351814  0.139112       music  1.0  \n",
       "3          0.199393  0.775350  0.743736    romantic  1.0  \n",
       "4          0.000246  0.597073  0.394375    romantic  1.0  \n",
       "\n",
       "[5 rows x 31 columns]"
      ]
     },
     "execution_count": 465,
     "metadata": {},
     "output_type": "execute_result"
    }
   ],
   "source": [
    "second_df.head()"
   ]
  },
  {
   "cell_type": "markdown",
   "metadata": {},
   "source": [
    "As colunas com o nome de \"genre\", que mostra o gênero musical da canção, e \"lyrics\", que trata sobre as letras de cada música, juntamente com algumas outras colunas de características descritivas das canções são as colunas que mais nos interessam nesse conjunto de dados, pois elas estão diretamente ligadas com algumas perguntas feitas anteriormente sobre o projeto."
   ]
  },
  {
   "cell_type": "markdown",
   "metadata": {},
   "source": [
    "Aqui será descartada a coluna com o nome de \"Unnamed: 0\", todavia, também será descartada a coluna \"len\" que trata sobre a quantia de letras de cada música, e a coluna \"age\" que aparentemente possui dados que não fazem sentido. Tais colunas não nos interessaram nas análises adiantes."
   ]
  },
  {
   "cell_type": "code",
   "execution_count": 466,
   "metadata": {},
   "outputs": [],
   "source": [
    "unnecessary = [\"Unnamed: 0\", \"len\", \"age\", \"artist_name\", \"track_name\"]\n",
    "second_df = second_df.drop(unnecessary, axis = 1)"
   ]
  },
  {
   "cell_type": "markdown",
   "metadata": {},
   "source": [
    "Com isso já é possível analisar as medidas de centralidade e dispersão das características musicais desse conjunto de dados:"
   ]
  },
  {
   "cell_type": "code",
   "execution_count": 467,
   "metadata": {},
   "outputs": [
    {
     "data": {
      "text/html": [
       "<div>\n",
       "<style scoped>\n",
       "    .dataframe tbody tr th:only-of-type {\n",
       "        vertical-align: middle;\n",
       "    }\n",
       "\n",
       "    .dataframe tbody tr th {\n",
       "        vertical-align: top;\n",
       "    }\n",
       "\n",
       "    .dataframe thead th {\n",
       "        text-align: right;\n",
       "    }\n",
       "</style>\n",
       "<table border=\"1\" class=\"dataframe\">\n",
       "  <thead>\n",
       "    <tr style=\"text-align: right;\">\n",
       "      <th></th>\n",
       "      <th>release_date</th>\n",
       "      <th>dating</th>\n",
       "      <th>violence</th>\n",
       "      <th>world/life</th>\n",
       "      <th>night/time</th>\n",
       "      <th>shake the audience</th>\n",
       "      <th>family/gospel</th>\n",
       "      <th>romantic</th>\n",
       "      <th>communication</th>\n",
       "      <th>obscene</th>\n",
       "      <th>...</th>\n",
       "      <th>family/spiritual</th>\n",
       "      <th>like/girls</th>\n",
       "      <th>sadness</th>\n",
       "      <th>feelings</th>\n",
       "      <th>danceability</th>\n",
       "      <th>loudness</th>\n",
       "      <th>acousticness</th>\n",
       "      <th>instrumentalness</th>\n",
       "      <th>valence</th>\n",
       "      <th>energy</th>\n",
       "    </tr>\n",
       "  </thead>\n",
       "  <tbody>\n",
       "    <tr>\n",
       "      <th>count</th>\n",
       "      <td>28372.000000</td>\n",
       "      <td>28372.000000</td>\n",
       "      <td>28372.000000</td>\n",
       "      <td>28372.000000</td>\n",
       "      <td>28372.000000</td>\n",
       "      <td>28372.000000</td>\n",
       "      <td>28372.000000</td>\n",
       "      <td>28372.000000</td>\n",
       "      <td>28372.000000</td>\n",
       "      <td>28372.000000</td>\n",
       "      <td>...</td>\n",
       "      <td>28372.000000</td>\n",
       "      <td>28372.000000</td>\n",
       "      <td>28372.000000</td>\n",
       "      <td>28372.000000</td>\n",
       "      <td>28372.000000</td>\n",
       "      <td>28372.000000</td>\n",
       "      <td>2.837200e+04</td>\n",
       "      <td>28372.000000</td>\n",
       "      <td>28372.000000</td>\n",
       "      <td>28372.000000</td>\n",
       "    </tr>\n",
       "    <tr>\n",
       "      <th>mean</th>\n",
       "      <td>1990.236888</td>\n",
       "      <td>0.021112</td>\n",
       "      <td>0.118396</td>\n",
       "      <td>0.120973</td>\n",
       "      <td>0.057387</td>\n",
       "      <td>0.017422</td>\n",
       "      <td>0.017045</td>\n",
       "      <td>0.048681</td>\n",
       "      <td>0.076680</td>\n",
       "      <td>0.097168</td>\n",
       "      <td>...</td>\n",
       "      <td>0.024150</td>\n",
       "      <td>0.028057</td>\n",
       "      <td>0.129389</td>\n",
       "      <td>0.030996</td>\n",
       "      <td>0.533348</td>\n",
       "      <td>0.665249</td>\n",
       "      <td>3.392347e-01</td>\n",
       "      <td>0.080049</td>\n",
       "      <td>0.532864</td>\n",
       "      <td>0.569875</td>\n",
       "    </tr>\n",
       "    <tr>\n",
       "      <th>std</th>\n",
       "      <td>18.487463</td>\n",
       "      <td>0.052370</td>\n",
       "      <td>0.178684</td>\n",
       "      <td>0.172200</td>\n",
       "      <td>0.111923</td>\n",
       "      <td>0.040670</td>\n",
       "      <td>0.041966</td>\n",
       "      <td>0.106095</td>\n",
       "      <td>0.109538</td>\n",
       "      <td>0.181303</td>\n",
       "      <td>...</td>\n",
       "      <td>0.051025</td>\n",
       "      <td>0.058473</td>\n",
       "      <td>0.181143</td>\n",
       "      <td>0.071652</td>\n",
       "      <td>0.173218</td>\n",
       "      <td>0.108434</td>\n",
       "      <td>3.267143e-01</td>\n",
       "      <td>0.211245</td>\n",
       "      <td>0.250972</td>\n",
       "      <td>0.244385</td>\n",
       "    </tr>\n",
       "    <tr>\n",
       "      <th>min</th>\n",
       "      <td>1950.000000</td>\n",
       "      <td>0.000291</td>\n",
       "      <td>0.000284</td>\n",
       "      <td>0.000291</td>\n",
       "      <td>0.000289</td>\n",
       "      <td>0.000284</td>\n",
       "      <td>0.000289</td>\n",
       "      <td>0.000284</td>\n",
       "      <td>0.000291</td>\n",
       "      <td>0.000289</td>\n",
       "      <td>...</td>\n",
       "      <td>0.000284</td>\n",
       "      <td>0.000284</td>\n",
       "      <td>0.000284</td>\n",
       "      <td>0.000289</td>\n",
       "      <td>0.005415</td>\n",
       "      <td>0.000000</td>\n",
       "      <td>2.811248e-07</td>\n",
       "      <td>0.000000</td>\n",
       "      <td>0.000000</td>\n",
       "      <td>0.000000</td>\n",
       "    </tr>\n",
       "    <tr>\n",
       "      <th>25%</th>\n",
       "      <td>1975.000000</td>\n",
       "      <td>0.000923</td>\n",
       "      <td>0.001120</td>\n",
       "      <td>0.001170</td>\n",
       "      <td>0.001032</td>\n",
       "      <td>0.000993</td>\n",
       "      <td>0.000923</td>\n",
       "      <td>0.000975</td>\n",
       "      <td>0.001144</td>\n",
       "      <td>0.001053</td>\n",
       "      <td>...</td>\n",
       "      <td>0.000957</td>\n",
       "      <td>0.000975</td>\n",
       "      <td>0.001144</td>\n",
       "      <td>0.000993</td>\n",
       "      <td>0.412975</td>\n",
       "      <td>0.595364</td>\n",
       "      <td>3.423598e-02</td>\n",
       "      <td>0.000000</td>\n",
       "      <td>0.329143</td>\n",
       "      <td>0.380361</td>\n",
       "    </tr>\n",
       "    <tr>\n",
       "      <th>50%</th>\n",
       "      <td>1991.000000</td>\n",
       "      <td>0.001462</td>\n",
       "      <td>0.002506</td>\n",
       "      <td>0.006579</td>\n",
       "      <td>0.001949</td>\n",
       "      <td>0.001595</td>\n",
       "      <td>0.001504</td>\n",
       "      <td>0.001754</td>\n",
       "      <td>0.002632</td>\n",
       "      <td>0.001815</td>\n",
       "      <td>...</td>\n",
       "      <td>0.001645</td>\n",
       "      <td>0.001595</td>\n",
       "      <td>0.005263</td>\n",
       "      <td>0.001754</td>\n",
       "      <td>0.538612</td>\n",
       "      <td>0.679050</td>\n",
       "      <td>2.259028e-01</td>\n",
       "      <td>0.000085</td>\n",
       "      <td>0.539365</td>\n",
       "      <td>0.580567</td>\n",
       "    </tr>\n",
       "    <tr>\n",
       "      <th>75%</th>\n",
       "      <td>2007.000000</td>\n",
       "      <td>0.004049</td>\n",
       "      <td>0.192608</td>\n",
       "      <td>0.197793</td>\n",
       "      <td>0.065842</td>\n",
       "      <td>0.010002</td>\n",
       "      <td>0.004785</td>\n",
       "      <td>0.042301</td>\n",
       "      <td>0.132136</td>\n",
       "      <td>0.088765</td>\n",
       "      <td>...</td>\n",
       "      <td>0.025498</td>\n",
       "      <td>0.026622</td>\n",
       "      <td>0.235113</td>\n",
       "      <td>0.032622</td>\n",
       "      <td>0.656666</td>\n",
       "      <td>0.749026</td>\n",
       "      <td>6.325298e-01</td>\n",
       "      <td>0.009335</td>\n",
       "      <td>0.738252</td>\n",
       "      <td>0.772766</td>\n",
       "    </tr>\n",
       "    <tr>\n",
       "      <th>max</th>\n",
       "      <td>2019.000000</td>\n",
       "      <td>0.647706</td>\n",
       "      <td>0.981781</td>\n",
       "      <td>0.962105</td>\n",
       "      <td>0.973684</td>\n",
       "      <td>0.497463</td>\n",
       "      <td>0.545303</td>\n",
       "      <td>0.940789</td>\n",
       "      <td>0.645829</td>\n",
       "      <td>0.992298</td>\n",
       "      <td>...</td>\n",
       "      <td>0.618073</td>\n",
       "      <td>0.594459</td>\n",
       "      <td>0.981424</td>\n",
       "      <td>0.958810</td>\n",
       "      <td>0.993502</td>\n",
       "      <td>1.000000</td>\n",
       "      <td>1.000000e+00</td>\n",
       "      <td>0.996964</td>\n",
       "      <td>1.000000</td>\n",
       "      <td>1.000000</td>\n",
       "    </tr>\n",
       "  </tbody>\n",
       "</table>\n",
       "<p>8 rows × 23 columns</p>\n",
       "</div>"
      ],
      "text/plain": [
       "       release_date        dating      violence    world/life    night/time  \\\n",
       "count  28372.000000  28372.000000  28372.000000  28372.000000  28372.000000   \n",
       "mean    1990.236888      0.021112      0.118396      0.120973      0.057387   \n",
       "std       18.487463      0.052370      0.178684      0.172200      0.111923   \n",
       "min     1950.000000      0.000291      0.000284      0.000291      0.000289   \n",
       "25%     1975.000000      0.000923      0.001120      0.001170      0.001032   \n",
       "50%     1991.000000      0.001462      0.002506      0.006579      0.001949   \n",
       "75%     2007.000000      0.004049      0.192608      0.197793      0.065842   \n",
       "max     2019.000000      0.647706      0.981781      0.962105      0.973684   \n",
       "\n",
       "       shake the audience  family/gospel      romantic  communication  \\\n",
       "count        28372.000000   28372.000000  28372.000000   28372.000000   \n",
       "mean             0.017422       0.017045      0.048681       0.076680   \n",
       "std              0.040670       0.041966      0.106095       0.109538   \n",
       "min              0.000284       0.000289      0.000284       0.000291   \n",
       "25%              0.000993       0.000923      0.000975       0.001144   \n",
       "50%              0.001595       0.001504      0.001754       0.002632   \n",
       "75%              0.010002       0.004785      0.042301       0.132136   \n",
       "max              0.497463       0.545303      0.940789       0.645829   \n",
       "\n",
       "            obscene  ...  family/spiritual    like/girls       sadness  \\\n",
       "count  28372.000000  ...      28372.000000  28372.000000  28372.000000   \n",
       "mean       0.097168  ...          0.024150      0.028057      0.129389   \n",
       "std        0.181303  ...          0.051025      0.058473      0.181143   \n",
       "min        0.000289  ...          0.000284      0.000284      0.000284   \n",
       "25%        0.001053  ...          0.000957      0.000975      0.001144   \n",
       "50%        0.001815  ...          0.001645      0.001595      0.005263   \n",
       "75%        0.088765  ...          0.025498      0.026622      0.235113   \n",
       "max        0.992298  ...          0.618073      0.594459      0.981424   \n",
       "\n",
       "           feelings  danceability      loudness  acousticness  \\\n",
       "count  28372.000000  28372.000000  28372.000000  2.837200e+04   \n",
       "mean       0.030996      0.533348      0.665249  3.392347e-01   \n",
       "std        0.071652      0.173218      0.108434  3.267143e-01   \n",
       "min        0.000289      0.005415      0.000000  2.811248e-07   \n",
       "25%        0.000993      0.412975      0.595364  3.423598e-02   \n",
       "50%        0.001754      0.538612      0.679050  2.259028e-01   \n",
       "75%        0.032622      0.656666      0.749026  6.325298e-01   \n",
       "max        0.958810      0.993502      1.000000  1.000000e+00   \n",
       "\n",
       "       instrumentalness       valence        energy  \n",
       "count      28372.000000  28372.000000  28372.000000  \n",
       "mean           0.080049      0.532864      0.569875  \n",
       "std            0.211245      0.250972      0.244385  \n",
       "min            0.000000      0.000000      0.000000  \n",
       "25%            0.000000      0.329143      0.380361  \n",
       "50%            0.000085      0.539365      0.580567  \n",
       "75%            0.009335      0.738252      0.772766  \n",
       "max            0.996964      1.000000      1.000000  \n",
       "\n",
       "[8 rows x 23 columns]"
      ]
     },
     "execution_count": 467,
     "metadata": {},
     "output_type": "execute_result"
    }
   ],
   "source": [
    "second_df.describe()"
   ]
  },
  {
   "cell_type": "markdown",
   "metadata": {},
   "source": [
    "Após isso, ambos os datasets estão aptos para a extração e obtenção de informações a partir de seus dados."
   ]
  },
  {
   "cell_type": "markdown",
   "metadata": {},
   "source": [
    "# Se uma música é considerada triste, quais são as palavras que mais tendem a aparecer nas letras dessa canção ? E em músicas românticas ?"
   ]
  },
  {
   "cell_type": "markdown",
   "metadata": {},
   "source": [
    "Para responder a primeira questão, é necessário estabelecer critérios acerca do que é ser considerado uma música triste, para tal , será utilizado os seguintes critérios:"
   ]
  },
  {
   "cell_type": "code",
   "execution_count": 468,
   "metadata": {},
   "outputs": [],
   "source": [
    "low_sadness = second_df[second_df[\"sadness\"] > 0.04]\n",
    "mid_sadness = second_df[second_df[\"sadness\"] > 0.1]\n",
    "high_sadness = second_df[second_df[\"sadness\"] > 0.6]"
   ]
  },
  {
   "cell_type": "markdown",
   "metadata": {},
   "source": [
    "Após isso, é preciso analisar quais palavras mais aparecem em músicas com o índice de tristeza abaixo da média, dentro da média e acima da média. Para facilitar tal processo, será feito o uso da classe \"Counter\" do módulo \"collections\"."
   ]
  },
  {
   "cell_type": "code",
   "execution_count": 469,
   "metadata": {},
   "outputs": [
    {
     "data": {
      "text/plain": [
       "[('away', 15707),\n",
       " ('heart', 15522),\n",
       " ('know', 14905),\n",
       " ('time', 11067),\n",
       " ('like', 10416),\n",
       " ('come', 9622)]"
      ]
     },
     "execution_count": 469,
     "metadata": {},
     "output_type": "execute_result"
    }
   ],
   "source": [
    "Counter(\" \".join(low_sadness[\"lyrics\"]).split()).most_common(6)"
   ]
  },
  {
   "cell_type": "code",
   "execution_count": 470,
   "metadata": {},
   "outputs": [
    {
     "data": {
      "text/plain": [
       "[('away', 14409),\n",
       " ('heart', 14235),\n",
       " ('know', 11556),\n",
       " ('time', 8269),\n",
       " ('leave', 8131),\n",
       " ('fall', 7612)]"
      ]
     },
     "execution_count": 470,
     "metadata": {},
     "output_type": "execute_result"
    }
   ],
   "source": [
    "Counter(\" \".join(mid_sadness[\"lyrics\"]).split()).most_common(6)"
   ]
  },
  {
   "cell_type": "code",
   "execution_count": 471,
   "metadata": {},
   "outputs": [
    {
     "data": {
      "text/plain": [
       "[('away', 1582),\n",
       " ('heart', 1403),\n",
       " ('fall', 1099),\n",
       " ('break', 1052),\n",
       " ('leave', 649),\n",
       " ('walk', 627)]"
      ]
     },
     "execution_count": 471,
     "metadata": {},
     "output_type": "execute_result"
    }
   ],
   "source": [
    "Counter(\" \".join(high_sadness[\"lyrics\"]).split()).most_common(6)"
   ]
  },
  {
   "cell_type": "markdown",
   "metadata": {},
   "source": [
    "### Com isso feito, já é obtida a resposta para a primeira pergunta:"
   ]
  },
  {
   "cell_type": "markdown",
   "metadata": {},
   "source": [
    "As palavras mais comuns em músicas com um índice de tristeza abaixo do normal são:\n",
    "- Vir/ir\n",
    "- Sentir\n",
    "- Saber\n",
    "- Tempo\n",
    "- Gostar"
   ]
  },
  {
   "cell_type": "markdown",
   "metadata": {},
   "source": [
    "As palavras mais comuns em músicas com um índice de tristeza dentro da normalidade são:\n",
    "- Longe\n",
    "- Coração\n",
    "- Saber\n",
    "- Cair\n",
    "- Deixar"
   ]
  },
  {
   "cell_type": "markdown",
   "metadata": {},
   "source": [
    "As palavras que mais aparecem em músicas com um índice de tristeza acima do normal são:\n",
    "- Longe\n",
    "- Coração\n",
    "- Cair\n",
    "- Quebrar\n",
    "- Deixar"
   ]
  },
  {
   "cell_type": "markdown",
   "metadata": {},
   "source": [
    "    Logo, fica claro que algumas palavras como: \"Longe\", \"Coração\", \"Cair\", \"Quebrar\", \"Deixar\", têm uma grande tendência a aparecer em músicas tristes. "
   ]
  },
  {
   "cell_type": "markdown",
   "metadata": {},
   "source": [
    "### Para saber quais palavras mais aparecem em músicas violentas, será utilizado da mesma lógica que na pergunta anterior."
   ]
  },
  {
   "cell_type": "markdown",
   "metadata": {},
   "source": [
    "Para responder a segunda pergunta, será seguido os mesmos passos, sendo necessário estipular parâmetros sobre o quão romântica é uma música, os quais são descritos abaixo:"
   ]
  },
  {
   "cell_type": "code",
   "execution_count": 472,
   "metadata": {},
   "outputs": [],
   "source": [
    "low_romance = second_df[second_df[\"romantic\"] > 0.01]\n",
    "mid_romance = second_df[second_df[\"romantic\"] > 0.5]\n",
    "high_romance = second_df[second_df[\"romantic\"] > 0.6]"
   ]
  },
  {
   "cell_type": "markdown",
   "metadata": {},
   "source": [
    "Após isso, é preciso analisar quais palavras mais aparecem em músicas com o índice de romance abaixo da média, dentro da média e acima da média."
   ]
  },
  {
   "cell_type": "code",
   "execution_count": 473,
   "metadata": {},
   "outputs": [
    {
     "data": {
      "text/plain": [
       "[('know', 11929),\n",
       " ('like', 8902),\n",
       " ('time', 8694),\n",
       " ('hold', 8246),\n",
       " ('come', 7948),\n",
       " ('heart', 7638)]"
      ]
     },
     "execution_count": 473,
     "metadata": {},
     "output_type": "execute_result"
    }
   ],
   "source": [
    "Counter(\" \".join(low_romance[\"lyrics\"]).split()).most_common(6)"
   ]
  },
  {
   "cell_type": "code",
   "execution_count": 474,
   "metadata": {},
   "outputs": [
    {
     "data": {
      "text/plain": [
       "[('hold', 895),\n",
       " ('woman', 438),\n",
       " ('kiss', 416),\n",
       " ('love', 333),\n",
       " ('hand', 306),\n",
       " ('sweet', 282)]"
      ]
     },
     "execution_count": 474,
     "metadata": {},
     "output_type": "execute_result"
    }
   ],
   "source": [
    "Counter(\" \".join(mid_romance[\"lyrics\"]).split()).most_common(6)"
   ]
  },
  {
   "cell_type": "code",
   "execution_count": 475,
   "metadata": {},
   "outputs": [
    {
     "data": {
      "text/plain": [
       "[('hold', 397),\n",
       " ('woman', 219),\n",
       " ('lover', 153),\n",
       " ('kiss', 115),\n",
       " ('hand', 104),\n",
       " ('touch', 103)]"
      ]
     },
     "execution_count": 475,
     "metadata": {},
     "output_type": "execute_result"
    }
   ],
   "source": [
    "Counter(\" \".join(high_romance[\"lyrics\"]).split()).most_common(6)"
   ]
  },
  {
   "cell_type": "markdown",
   "metadata": {},
   "source": [
    "### Com isso feito, é obtida a resposta para a segunda pergunta:"
   ]
  },
  {
   "cell_type": "markdown",
   "metadata": {},
   "source": [
    "As palavras mais comuns em músicas com um índice de romance abaixo do normal são:\n",
    "- Segurar\n",
    "- Vir\n",
    "- Saber\n",
    "- Tempo\n",
    "- Gostar"
   ]
  },
  {
   "cell_type": "markdown",
   "metadata": {},
   "source": [
    "As palavras mais comuns em músicas com um índice de romance dentro da normalidade são:\n",
    "- Segurar\n",
    "- Mulher\n",
    "- Beijar\n",
    "- Amor\n",
    "- Mão"
   ]
  },
  {
   "cell_type": "markdown",
   "metadata": {},
   "source": [
    "As palavras que mais aparecem em músicas com um índice de romance acima do normal são:\n",
    "- Segurar\n",
    "- Mulher\n",
    "- Amante\n",
    "- Querida\n",
    "- Beijar"
   ]
  },
  {
   "cell_type": "markdown",
   "metadata": {},
   "source": [
    "    Logo, fica claro que algumas palavras como: \"Segurar\", \"Mulher\", \"Amante\", \"Querida\", \"Beijar\", têm uma grande tendência a aparecer em músicas românticas. "
   ]
  }
 ],
 "metadata": {
  "interpreter": {
   "hash": "916dbcbb3f70747c44a77c7bcd40155683ae19c65e1c03b4aa3499c5328201f1"
  },
  "kernelspec": {
   "display_name": "Python 3.8.10 64-bit",
   "language": "python",
   "name": "python3"
  },
  "language_info": {
   "codemirror_mode": {
    "name": "ipython",
    "version": 3
   },
   "file_extension": ".py",
   "mimetype": "text/x-python",
   "name": "python",
   "nbconvert_exporter": "python",
   "pygments_lexer": "ipython3",
   "version": "3.8.10"
  },
  "orig_nbformat": 4
 },
 "nbformat": 4,
 "nbformat_minor": 2
}
